{
 "cells": [
  {
   "cell_type": "code",
   "execution_count": 1,
   "metadata": {},
   "outputs": [],
   "source": [
    "import pandas as pd\n",
    "import glob\n",
    "import os\n",
    "import numpy as np\n",
    "paths =[r'./Huawei Public Cloud and Huawei Private Cloud data/cpu_usage_minute/cpu_usage_minute',\n",
    "r'./Huawei Public Cloud and Huawei Private Cloud data/memory_usage_minute/memory_usage_minute',\n",
    "r'./Huawei Public Cloud and Huawei Private Cloud data/requests_minute/requests_minute']"
   ]
  },
  {
   "cell_type": "markdown",
   "metadata": {},
   "source": [
    "### Step 1: 把数据从原始频率“1T”聚合为“5T”\n",
    "每5分钟的数据中若缺失值超过2个，则置该时间段的聚合值为nan；否则，对缺失值线性插值，再聚合\n"
   ]
  },
  {
   "cell_type": "code",
   "execution_count": 2,
   "metadata": {},
   "outputs": [],
   "source": [
    "#将数据按5分钟聚合，取平均值\n",
    "def avg_5(directory_path):\n",
    "    csv_files = [f for f in os.listdir(directory_path) if f.endswith('.csv')]\n",
    "    all_aggregated_data = []\n",
    "    for csv_file in csv_files:\n",
    "        file_path = os.path.join(directory_path, csv_file)   \n",
    "        df = pd.read_csv(file_path)\n",
    "        if 'time' in df.columns:\n",
    "            df['time'] = df['time'] // 60\n",
    "            df.set_index('time', inplace=True)\n",
    "        for col in df.columns:\n",
    "            df[col] = pd.to_numeric(df[col], errors='ignore') \n",
    "        def custom_aggregate(group):\n",
    "            result = pd.Series(index=group.columns, dtype=float)\n",
    "            for col in group.columns:\n",
    "                if group[col].isnull().sum() <= 2:\n",
    "                    result[col] = group[col].interpolate().mean()\n",
    "                else:\n",
    "                    result[col] = float('nan')\n",
    "            return result\n",
    "        aggregated_df = df.groupby(df.index // 5).apply(custom_aggregate)\n",
    "        all_aggregated_data.append(aggregated_df)\n",
    "    # 合并所有聚合后的数据\n",
    "    final_df = pd.concat(all_aggregated_data)\n",
    "    min_time = final_df.index.min()\n",
    "    max_time = final_df.index.max()\n",
    "    final_df = final_df.reindex(range(min_time, max_time + 1), fill_value=float('nan'))\n",
    "    final_df.index.name = 'time'\n",
    "    return final_df\n",
    "\n",
    "#将数据按5分钟聚合，取和\n",
    "def sum_5(directory_path):\n",
    "    csv_files = [f for f in os.listdir(directory_path) if f.endswith('.csv')]\n",
    "    all_sum_data = []\n",
    "    for csv_file in csv_files:\n",
    "        file_path = os.path.join(directory_path, csv_file)\n",
    "        df = pd.read_csv(file_path)\n",
    "        if 'time' in df.columns:\n",
    "            df['time'] = df['time'] // 60\n",
    "            df.set_index('time', inplace=True)\n",
    "        for col in df.columns:\n",
    "            df[col] = pd.to_numeric(df[col], errors='ignore')\n",
    "        def custom_sum(group):\n",
    "            result = pd.Series(index=group.columns, dtype=float)\n",
    "            for col in group.columns:\n",
    "                if group[col].isnull().sum() <= 2:\n",
    "                    result[col] = group[col].interpolate().sum()\n",
    "                else:\n",
    "                    result[col] = float('nan')\n",
    "            return result\n",
    "        sum_df = df.groupby(df.index // 5).apply(custom_sum)\n",
    "        all_sum_data.append(sum_df)\n",
    "   \n",
    "    # 合并所有聚合后的数据\n",
    "    final_df = pd.concat(all_sum_data)\n",
    "    min_time = final_df.index.min()\n",
    "    max_time = final_df.index.max()\n",
    "    final_df = final_df.reindex(range(min_time, max_time + 1), fill_value=float('nan'))\n",
    "    final_df.index.name = 'time'\n",
    "    return final_df\n"
   ]
  },
  {
   "cell_type": "code",
   "execution_count": 3,
   "metadata": {},
   "outputs": [],
   "source": [
    "df_cpu_usage = avg_5(paths[0])\n",
    "df_memory_usage = avg_5(paths[1])\n",
    "df_requests = sum_5(paths[2])"
   ]
  },
  {
   "cell_type": "markdown",
   "metadata": {},
   "source": [
    "### Step 2: 将数据存储为parrow格式\n",
    "重新索引，使得时间从2023-01-01 00:00:00开始，频率为5分钟；将三个数据集以parrow格式存储"
   ]
  },
  {
   "cell_type": "code",
   "execution_count": 4,
   "metadata": {},
   "outputs": [
    {
     "name": "stderr",
     "output_type": "stream",
     "text": [
      "/home/zhangxiaobin/.local/lib/python3.10/site-packages/tqdm/auto.py:21: TqdmWarning: IProgress not found. Please update jupyter and ipywidgets. See https://ipywidgets.readthedocs.io/en/stable/user_install.html\n",
      "  from .autonotebook import tqdm as notebook_tqdm\n"
     ]
    }
   ],
   "source": [
    "from collections.abc import Generator\n",
    "from pathlib import Path\n",
    "from typing import Any\n",
    "import datasets\n",
    "import pandas as pd\n",
    "from datasets import Features, Sequence, Value\n",
    "\n",
    "def cpu_gen_func() -> Generator[dict[str, Any], None, None]:\n",
    "    for i in range(len(df_cpu_usage.columns)):\n",
    "        yield {\n",
    "            \"target\": df_cpu_usage.iloc[:,i].to_numpy(),\n",
    "            \"start\": df_cpu_usage.index[0],\n",
    "            \"freq\": \"5T\",\n",
    "            \"item_id\": f\"item_{i}\",\n",
    "        }\n",
    "\n",
    "def memory_gen_func() -> Generator[dict[str, Any], None, None]:\n",
    "    for i in range(len(df_memory_usage.columns)):\n",
    "        yield {\n",
    "            \"target\": df_memory_usage.iloc[:,i].to_numpy(), \n",
    "            \"start\": df_memory_usage.index[0],\n",
    "            \"freq\": \"5T\",\n",
    "            \"item_id\": f\"item_{i}\", \n",
    "        }\n",
    "\n",
    "def request_gen_func() -> Generator[dict[str, Any], None, None]:\n",
    "    for i in range(len(df_requests.columns)):\n",
    "        yield {\n",
    "            \"target\": df_requests.iloc[:,i].to_numpy(), \n",
    "            \"start\": df_requests.index[0],\n",
    "            \"freq\": \"5T\",\n",
    "            \"item_id\": f\"item_{i}\",\n",
    "        }\n",
    "\n",
    "features = Features(\n",
    "    dict(\n",
    "        target=Sequence(Value(\"float32\")),\n",
    "        start=Value(\"timestamp[s]\"),\n",
    "        freq=Value(\"string\"),\n",
    "        item_id=Value(\"string\"),\n",
    "    )\n",
    ")\n",
    "\n",
    "def reindex_data(df):\n",
    "    start_time = pd.Timestamp('2023-01-01 00:00:00')\n",
    "    df.index = pd.date_range(start=start_time, periods=len(df), freq='5T')\n",
    "    df.index.name = 'timestamp'\n",
    "    return df"
   ]
  },
  {
   "cell_type": "code",
   "execution_count": 13,
   "metadata": {},
   "outputs": [],
   "source": [
    "df_cpu_usage.drop(columns=['day'],inplace=True)\n",
    "df_memory_usage.drop(columns=['day'],inplace=True)\n",
    "df_requests.drop(columns=['day'],inplace=True)"
   ]
  },
  {
   "cell_type": "code",
   "execution_count": 14,
   "metadata": {},
   "outputs": [
    {
     "name": "stderr",
     "output_type": "stream",
     "text": [
      "Generating train split: 200 examples [00:23,  8.46 examples/s]\n",
      "Generating train split: 200 examples [00:21,  9.30 examples/s]\n",
      "Generating train split: 200 examples [00:22,  8.86 examples/s]\n",
      "Saving the dataset (1/1 shards): 100%|██████████| 200/200 [00:00<00:00, 3800.12 examples/s]\n",
      "Saving the dataset (1/1 shards): 100%|██████████| 200/200 [00:00<00:00, 3922.90 examples/s]\n",
      "Saving the dataset (1/1 shards): 100%|██████████| 200/200 [00:00<00:00, 4057.96 examples/s]\n"
     ]
    }
   ],
   "source": [
    "df_cpu_usage = reindex_data(df_cpu_usage)\n",
    "df_memory_usage = reindex_data(df_memory_usage)\n",
    "df_requests = reindex_data(df_requests)\n",
    "dataset_cpu = datasets.Dataset.from_generator(cpu_gen_func, features=features)\n",
    "dataset_memory = datasets.Dataset.from_generator(memory_gen_func, features=features)\n",
    "dataset_request = datasets.Dataset.from_generator(request_gen_func, features=features)\n",
    "dataset_cpu.save_to_disk(Path(\"dataset_cpu\"))\n",
    "dataset_memory.save_to_disk(Path(\"dataset_memory\"))\n",
    "dataset_request.save_to_disk(Path(\"dataset_request\"))\n"
   ]
  }
 ],
 "metadata": {
  "kernelspec": {
   "display_name": "Python 3",
   "language": "python",
   "name": "python3"
  },
  "language_info": {
   "codemirror_mode": {
    "name": "ipython",
    "version": 3
   },
   "file_extension": ".py",
   "mimetype": "text/x-python",
   "name": "python",
   "nbconvert_exporter": "python",
   "pygments_lexer": "ipython3",
   "version": "3.10.12"
  }
 },
 "nbformat": 4,
 "nbformat_minor": 2
}
