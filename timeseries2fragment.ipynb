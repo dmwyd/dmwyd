{
 "cells": [
  {
   "cell_type": "code",
   "execution_count": 1,
   "metadata": {},
   "outputs": [
    {
     "name": "stderr",
     "output_type": "stream",
     "text": [
      "/home/zhangxiaobin/.local/lib/python3.10/site-packages/tqdm/auto.py:21: TqdmWarning: IProgress not found. Please update jupyter and ipywidgets. See https://ipywidgets.readthedocs.io/en/stable/user_install.html\n",
      "  from .autonotebook import tqdm as notebook_tqdm\n"
     ]
    }
   ],
   "source": [
    "from collections.abc import Generator\n",
    "from pathlib import Path\n",
    "from typing import Any\n",
    "import numpy as np\n",
    "import pandas as pd\n",
    "import datasets\n",
    "import pandas as pd\n",
    "from datasets import Features, Sequence, Value\n",
    "ds_cpu_usage = datasets.load_from_disk(\"dataset_cpu\").with_format(\"numpy\")\n",
    "ds_memory_usage = datasets.load_from_disk(\"dataset_memory\").with_format(\"numpy\")\n",
    "ds_request = datasets.load_from_disk(\"dataset_request\").with_format(\"numpy\")"
   ]
  },
  {
   "cell_type": "markdown",
   "metadata": {},
   "source": [
    "### Step 1: 获取要保留的时间片段的索引范围\n",
    "原始时间序列是不连续的时间片段，需要切割为连续的时间片段，第一步是获取要保留的时间片段的索引范围。"
   ]
  },
  {
   "cell_type": "code",
   "execution_count": 2,
   "metadata": {},
   "outputs": [],
   "source": [
    "date_rng = pd.date_range(start='2023-01-01 00:00:00', periods=67680, freq='5T')\n",
    "def get_segment_period(date_rng):\n",
    "    # 定义要保留的日期范围（天数）\n",
    "    day_ranges = [\n",
    "        (1, 19),    # 第1~19天\n",
    "        (29, 61),   # 第29~61天\n",
    "        (118, 129), # 第118~129天\n",
    "        (132, 139), # 第132~139天\n",
    "        (148, 166), # 第148~166天\n",
    "        (169, 185), # 第169~185天\n",
    "        (198, 208), # 第198~208天\n",
    "        (212, 222), # 第212~222天\n",
    "        (225, 235)  # 第225~235天\n",
    "    ]\n",
    "    # 每天的数据点数量\n",
    "    points_per_day = 288\n",
    "\n",
    "    # 为每个日期范围设置掩码\n",
    "    mask = np.zeros(len(date_rng), dtype=bool)\n",
    "    for start_day, end_day in day_ranges:\n",
    "        start_idx = (start_day - 1) * points_per_day\n",
    "        end_idx = end_day * points_per_day\n",
    "        mask[start_idx:end_idx] = True\n",
    "\n",
    "    segment_period = []\n",
    "    i = 0\n",
    "    while i < len(mask):\n",
    "        if mask[i] and (i == 0 or not mask[i-1]):\n",
    "            start = i\n",
    "            j = i + 1\n",
    "            while j < len(mask) and mask[j]:\n",
    "                j += 1\n",
    "            segment_period.append((start, j))\n",
    "            i = j\n",
    "        else:\n",
    "            i += 1\n",
    "    return segment_period\n",
    "\n",
    "segment_period = get_segment_period(date_rng)"
   ]
  },
  {
   "cell_type": "markdown",
   "metadata": {},
   "source": [
    "### Step 2: 切割时间序列"
   ]
  },
  {
   "cell_type": "code",
   "execution_count": 3,
   "metadata": {},
   "outputs": [],
   "source": [
    "# 存储切割后的数据集\n",
    "segmented_datasets = {}\n",
    "\n",
    "segment_stats = {\n",
    "    'cpu_usage': [],\n",
    "    'memory_usage': [],\n",
    "    'request':[],\n",
    "}\n",
    "\n",
    "segmented_datasets['cpu_usage'] =pd.DataFrame()\n",
    "segmented_datasets['memory_usage'] =pd.DataFrame()\n",
    "segmented_datasets['request']=pd.DataFrame()\n",
    "\n",
    "df_cpu_usage=pd.DataFrame(ds_cpu_usage['target'])\n",
    "df_memory_usage=pd.DataFrame(ds_memory_usage['target'])\n",
    "df_request=pd.DataFrame(ds_request['target'])\n",
    "\n",
    "\n",
    "df_memory_usage=df_memory_usage.T\n",
    "df_cpu_usage=df_cpu_usage.T\n",
    "df_request=df_request.T\n",
    "\n",
    "for i, (start, end) in enumerate(segment_period):\n",
    "    start_time = date_rng[start].strftime('%Y%m%d_%H%M')\n",
    "    end_time = date_rng[end-1].strftime('%Y%m%d_%H%M')\n",
    "    segment_id = f\"{start_time}_to_{end_time}\"\n",
    "    for name, df in [('cpu_usage', df_cpu_usage), \n",
    "                     ('memory_usage', df_memory_usage),\n",
    "                     ('request', df_request)]:\n",
    "        segment_data = df.iloc[start:end, :].values \n",
    "        column_names = [f\"function{col}_{i}\" for col in range(segment_data.shape[1])]\n",
    "        segment_data = pd.DataFrame(segment_data, columns=column_names)\n",
    "        segment_length = end - start\n",
    "        missing_values = np.isnan(segment_data).sum(axis=0)  # 计算每列的缺失值\n",
    "        missing_ratio = missing_values / segment_length\n",
    "\n",
    "        for col in range(segment_data.shape[1]):\n",
    "            segment_stats[name].append({\n",
    "                'id':f\"function{col}_{i}\",\n",
    "                'segment_id': segment_id,\n",
    "                'column_id': col,\n",
    "                'start_idx': start,\n",
    "                'end_idx': end,\n",
    "                'length': segment_length,\n",
    "                'missing_values': missing_values[col],\n",
    "                'missing_ratio': missing_ratio[col],  # 添加缺失值比例\n",
    "                'start_time': date_rng[start],\n",
    "                'end_time': date_rng[end-1]\n",
    "            })\n",
    "            \n",
    "        segmented_datasets[name] = pd.concat([segmented_datasets[name], segment_data], axis=1)"
   ]
  },
  {
   "cell_type": "markdown",
   "metadata": {},
   "source": [
    "### Step 3: 删除缺失值过多的时间序列片段"
   ]
  },
  {
   "cell_type": "code",
   "execution_count": 4,
   "metadata": {},
   "outputs": [
    {
     "name": "stdout",
     "output_type": "stream",
     "text": [
      "621\n"
     ]
    },
    {
     "data": {
      "text/plain": [
       "(9504, 621)"
      ]
     },
     "execution_count": 4,
     "metadata": {},
     "output_type": "execute_result"
    }
   ],
   "source": [
    "stats_df_cpu_usage = pd.DataFrame(segment_stats['cpu_usage']).iloc[:,[0,7]]\n",
    "stats_df_memory_usage = pd.DataFrame(segment_stats['memory_usage']).iloc[:,7]\n",
    "stats_df_request = pd.DataFrame(segment_stats['request']).iloc[:,7]\n",
    "stats_df=pd.concat([stats_df_cpu_usage,stats_df_memory_usage,stats_df_request],axis=1)\n",
    "\n",
    "# 计算每行的最大缺失率,如果最大缺失率小于0.01，则保留\n",
    "max_missing_ratio = stats_df.iloc[:, 1:].max(axis=1)\n",
    "valid_rows = max_missing_ratio <= 0.01\n",
    "valid_ids = stats_df.loc[valid_rows, 'id'].tolist()\n",
    "print(len(valid_ids))\n",
    "\n",
    "# 存储筛选后的数据集\n",
    "filtered_datasets = {}\n",
    "for name in segmented_datasets:\n",
    "    filtered_datasets[name] = segmented_datasets[name][valid_ids]\n",
    "filtered_datasets['cpu_usage'].shape\n",
    "filtered_datasets['memory_usage'].shape\n",
    "filtered_datasets['request'].shape\n"
   ]
  },
  {
   "cell_type": "code",
   "execution_count": 5,
   "metadata": {},
   "outputs": [
    {
     "name": "stdout",
     "output_type": "stream",
     "text": [
      "621\n",
      "dict_keys(['function6_0', 'function10_0', 'function14_0', 'function27_0', 'function28_0', 'function34_0', 'function38_0', 'function39_0', 'function40_0', 'function54_0', 'function56_0', 'function57_0', 'function60_0', 'function65_0', 'function66_0', 'function72_0', 'function75_0', 'function87_0', 'function88_0', 'function89_0', 'function90_0', 'function91_0', 'function92_0', 'function93_0', 'function94_0', 'function96_0', 'function97_0', 'function100_0', 'function102_0', 'function104_0', 'function116_0', 'function124_0', 'function127_0', 'function129_0', 'function130_0', 'function131_0', 'function132_0', 'function134_0', 'function135_0', 'function136_0', 'function146_0', 'function147_0', 'function150_0', 'function155_0', 'function156_0', 'function163_0', 'function164_0', 'function165_0', 'function168_0', 'function169_0', 'function170_0', 'function171_0', 'function172_0', 'function173_0', 'function174_0', 'function179_0', 'function183_0', 'function190_0', 'function194_0', 'function195_0', 'function199_0', 'function1_1', 'function6_1', 'function14_1', 'function15_1', 'function25_1', 'function27_1', 'function28_1', 'function33_1', 'function34_1', 'function38_1', 'function39_1', 'function40_1', 'function42_1', 'function43_1', 'function44_1', 'function54_1', 'function56_1', 'function60_1', 'function65_1', 'function66_1', 'function72_1', 'function86_1', 'function87_1', 'function88_1', 'function89_1', 'function90_1', 'function91_1', 'function92_1', 'function93_1', 'function94_1', 'function96_1', 'function97_1', 'function100_1', 'function104_1', 'function116_1', 'function124_1', 'function127_1', 'function129_1', 'function130_1', 'function131_1', 'function132_1', 'function133_1', 'function134_1', 'function135_1', 'function136_1', 'function146_1', 'function147_1', 'function150_1', 'function155_1', 'function156_1', 'function160_1', 'function161_1', 'function163_1', 'function164_1', 'function165_1', 'function169_1', 'function170_1', 'function172_1', 'function174_1', 'function179_1', 'function183_1', 'function190_1', 'function194_1', 'function195_1', 'function1_2', 'function6_2', 'function15_2', 'function25_2', 'function27_2', 'function28_2', 'function33_2', 'function34_2', 'function38_2', 'function39_2', 'function40_2', 'function44_2', 'function59_2', 'function60_2', 'function65_2', 'function66_2', 'function67_2', 'function72_2', 'function73_2', 'function75_2', 'function81_2', 'function86_2', 'function87_2', 'function88_2', 'function89_2', 'function90_2', 'function91_2', 'function92_2', 'function93_2', 'function94_2', 'function96_2', 'function97_2', 'function100_2', 'function104_2', 'function108_2', 'function116_2', 'function129_2', 'function130_2', 'function131_2', 'function132_2', 'function133_2', 'function134_2', 'function135_2', 'function136_2', 'function146_2', 'function147_2', 'function150_2', 'function155_2', 'function156_2', 'function160_2', 'function161_2', 'function163_2', 'function164_2', 'function165_2', 'function168_2', 'function169_2', 'function170_2', 'function171_2', 'function174_2', 'function183_2', 'function188_2', 'function189_2', 'function190_2', 'function194_2', 'function195_2', 'function1_3', 'function2_3', 'function6_3', 'function14_3', 'function15_3', 'function17_3', 'function25_3', 'function27_3', 'function28_3', 'function33_3', 'function34_3', 'function38_3', 'function39_3', 'function40_3', 'function44_3', 'function45_3', 'function46_3', 'function47_3', 'function51_3', 'function59_3', 'function60_3', 'function65_3', 'function66_3', 'function72_3', 'function73_3', 'function75_3', 'function86_3', 'function87_3', 'function88_3', 'function89_3', 'function90_3', 'function91_3', 'function92_3', 'function93_3', 'function94_3', 'function96_3', 'function97_3', 'function100_3', 'function104_3', 'function105_3', 'function108_3', 'function116_3', 'function119_3', 'function122_3', 'function127_3', 'function129_3', 'function130_3', 'function131_3', 'function132_3', 'function133_3', 'function134_3', 'function135_3', 'function136_3', 'function146_3', 'function147_3', 'function150_3', 'function155_3', 'function156_3', 'function157_3', 'function160_3', 'function161_3', 'function163_3', 'function164_3', 'function165_3', 'function166_3', 'function168_3', 'function169_3', 'function170_3', 'function171_3', 'function174_3', 'function179_3', 'function183_3', 'function187_3', 'function190_3', 'function194_3', 'function195_3', 'function1_4', 'function2_4', 'function6_4', 'function15_4', 'function17_4', 'function25_4', 'function27_4', 'function28_4', 'function33_4', 'function34_4', 'function38_4', 'function39_4', 'function40_4', 'function44_4', 'function46_4', 'function47_4', 'function59_4', 'function60_4', 'function65_4', 'function66_4', 'function72_4', 'function73_4', 'function86_4', 'function87_4', 'function88_4', 'function89_4', 'function90_4', 'function91_4', 'function92_4', 'function93_4', 'function94_4', 'function96_4', 'function97_4', 'function100_4', 'function104_4', 'function105_4', 'function108_4', 'function116_4', 'function127_4', 'function129_4', 'function130_4', 'function131_4', 'function132_4', 'function133_4', 'function134_4', 'function135_4', 'function136_4', 'function146_4', 'function147_4', 'function155_4', 'function156_4', 'function160_4', 'function161_4', 'function163_4', 'function164_4', 'function165_4', 'function169_4', 'function170_4', 'function174_4', 'function179_4', 'function183_4', 'function187_4', 'function194_4', 'function195_4', 'function1_5', 'function2_5', 'function6_5', 'function14_5', 'function15_5', 'function17_5', 'function25_5', 'function27_5', 'function28_5', 'function33_5', 'function34_5', 'function38_5', 'function39_5', 'function40_5', 'function44_5', 'function45_5', 'function46_5', 'function47_5', 'function51_5', 'function59_5', 'function60_5', 'function65_5', 'function66_5', 'function67_5', 'function72_5', 'function73_5', 'function75_5', 'function81_5', 'function86_5', 'function87_5', 'function88_5', 'function89_5', 'function90_5', 'function91_5', 'function92_5', 'function93_5', 'function94_5', 'function96_5', 'function97_5', 'function100_5', 'function104_5', 'function105_5', 'function108_5', 'function116_5', 'function119_5', 'function127_5', 'function129_5', 'function130_5', 'function131_5', 'function132_5', 'function133_5', 'function134_5', 'function135_5', 'function136_5', 'function146_5', 'function147_5', 'function150_5', 'function155_5', 'function156_5', 'function160_5', 'function161_5', 'function163_5', 'function164_5', 'function165_5', 'function168_5', 'function169_5', 'function170_5', 'function174_5', 'function179_5', 'function183_5', 'function185_5', 'function187_5', 'function188_5', 'function189_5', 'function194_5', 'function195_5', 'function198_5', 'function1_6', 'function2_6', 'function6_6', 'function15_6', 'function17_6', 'function19_6', 'function20_6', 'function25_6', 'function26_6', 'function27_6', 'function28_6', 'function34_6', 'function38_6', 'function39_6', 'function40_6', 'function45_6', 'function46_6', 'function51_6', 'function59_6', 'function60_6', 'function61_6', 'function65_6', 'function66_6', 'function67_6', 'function70_6', 'function72_6', 'function73_6', 'function75_6', 'function86_6', 'function87_6', 'function88_6', 'function89_6', 'function90_6', 'function91_6', 'function92_6', 'function93_6', 'function94_6', 'function96_6', 'function97_6', 'function100_6', 'function104_6', 'function105_6', 'function108_6', 'function116_6', 'function119_6', 'function122_6', 'function129_6', 'function130_6', 'function131_6', 'function132_6', 'function133_6', 'function134_6', 'function135_6', 'function136_6', 'function143_6', 'function144_6', 'function146_6', 'function147_6', 'function148_6', 'function150_6', 'function155_6', 'function156_6', 'function160_6', 'function161_6', 'function164_6', 'function168_6', 'function169_6', 'function170_6', 'function174_6', 'function183_6', 'function185_6', 'function187_6', 'function194_6', 'function195_6', 'function1_7', 'function2_7', 'function6_7', 'function15_7', 'function17_7', 'function19_7', 'function20_7', 'function25_7', 'function26_7', 'function27_7', 'function28_7', 'function33_7', 'function34_7', 'function38_7', 'function39_7', 'function40_7', 'function46_7', 'function47_7', 'function51_7', 'function59_7', 'function60_7', 'function65_7', 'function66_7', 'function70_7', 'function72_7', 'function73_7', 'function86_7', 'function87_7', 'function88_7', 'function89_7', 'function90_7', 'function91_7', 'function92_7', 'function93_7', 'function94_7', 'function96_7', 'function97_7', 'function98_7', 'function100_7', 'function104_7', 'function105_7', 'function108_7', 'function116_7', 'function119_7', 'function129_7', 'function130_7', 'function131_7', 'function132_7', 'function133_7', 'function134_7', 'function135_7', 'function136_7', 'function140_7', 'function141_7', 'function146_7', 'function147_7', 'function148_7', 'function155_7', 'function156_7', 'function157_7', 'function160_7', 'function161_7', 'function164_7', 'function168_7', 'function169_7', 'function170_7', 'function174_7', 'function179_7', 'function183_7', 'function185_7', 'function187_7', 'function194_7', 'function195_7', 'function1_8', 'function2_8', 'function6_8', 'function15_8', 'function17_8', 'function19_8', 'function20_8', 'function25_8', 'function26_8', 'function27_8', 'function28_8', 'function33_8', 'function34_8', 'function38_8', 'function39_8', 'function40_8', 'function46_8', 'function47_8', 'function51_8', 'function59_8', 'function60_8', 'function65_8', 'function66_8', 'function72_8', 'function73_8', 'function75_8', 'function86_8', 'function87_8', 'function88_8', 'function89_8', 'function90_8', 'function92_8', 'function93_8', 'function94_8', 'function96_8', 'function97_8', 'function100_8', 'function104_8', 'function105_8', 'function108_8', 'function116_8', 'function119_8', 'function130_8', 'function131_8', 'function132_8', 'function133_8', 'function134_8', 'function135_8', 'function136_8', 'function140_8', 'function141_8', 'function146_8', 'function147_8', 'function148_8', 'function150_8', 'function155_8', 'function156_8', 'function160_8', 'function161_8', 'function164_8', 'function170_8', 'function174_8', 'function183_8', 'function185_8', 'function187_8', 'function194_8', 'function195_8'])\n"
     ]
    }
   ],
   "source": [
    "time_series_data = {}\n",
    "id_lengths = pd.DataFrame(segment_stats['cpu_usage'])[['id', 'length']]\n",
    "id_lengths = id_lengths.set_index('id')\n",
    "\n",
    "for function_id in valid_ids:\n",
    "    length = id_lengths.loc[function_id, 'length']\n",
    "    series_data = pd.DataFrame({\n",
    "        'cpu_usage': filtered_datasets['cpu_usage'][function_id][:length],\n",
    "        'memory_usage': filtered_datasets['memory_usage'][function_id][:length],\n",
    "        'request': filtered_datasets['request'][function_id][:length]\n",
    "    })\n",
    "    time_series_data[function_id] = series_data\n",
    "print(len(time_series_data))\n",
    "print(time_series_data.keys())\n",
    "\n",
    "desired_columns = [\n",
    "    'cpu_usage',\n",
    "    'memory_usage',\n",
    "    'request'\n",
    "]\n",
    "new_columns = [chr(65 + i) for i in range(3)]  \n",
    "for function_id in time_series_data.keys():\n",
    "    time_series_data[function_id] = (time_series_data[function_id][desired_columns]\n",
    "                                   .rename(columns=dict(zip(desired_columns, new_columns))))\n"
   ]
  },
  {
   "cell_type": "markdown",
   "metadata": {},
   "source": [
    "### Step 2: 将数据存储为parrow格式\n",
    "以dataset格式存储，便于后续处理。target为cpu_usage、memory_usage,shape为(var, time)；\n",
    "past_feat_dynamic_real为request,shape为(1, time)\n"
   ]
  },
  {
   "cell_type": "code",
   "execution_count": 10,
   "metadata": {},
   "outputs": [],
   "source": [
    "from collections.abc import Generator\n",
    "from pathlib import Path\n",
    "from typing import Any\n",
    "import datasets\n",
    "import pandas as pd\n",
    "from datasets import Features, Sequence, Value\n",
    "\n",
    "def multivar_gen_func() -> Generator[dict[str, Any], None, None]:\n",
    "    for i, (function_id, df) in enumerate(time_series_data.items()):\n",
    "        yield {\n",
    "            \"target\": df.iloc[:,:2].to_numpy().T,  # array of shape (var, time)\n",
    "            \"start\": df.index[0],\n",
    "            \"freq\": \"5T\",\n",
    "            \"item_id\": f\"item_{i}\",  \n",
    "            \"past_feat_dynamic_real\":df.iloc[:,2:3].to_numpy().T,\n",
    "        }\n",
    "\n",
    "features = Features(\n",
    "    dict(\n",
    "        target=Sequence(\n",
    "            Sequence(Value(\"float32\")), length=2\n",
    "        ),  \n",
    "        start=Value(\"timestamp[s]\"),\n",
    "        freq=Value(\"string\"),\n",
    "        item_id=Value(\"string\"),\n",
    "        past_feat_dynamic_real=Sequence(\n",
    "            Sequence(Value(\"float32\")), length=1\n",
    "        ),\n",
    "    )\n",
    ")\n",
    "\n",
    "def reindex_data(df):\n",
    "    start_time = pd.Timestamp('2023-01-01 00:00:00')\n",
    "    df.index = pd.date_range(start=start_time, periods=len(df), freq='5T')\n",
    "    df.index.name = 'timestamp'\n",
    "    return df\n"
   ]
  },
  {
   "cell_type": "code",
   "execution_count": 11,
   "metadata": {},
   "outputs": [
    {
     "name": "stderr",
     "output_type": "stream",
     "text": [
      "Generating train split: 621 examples [00:14, 42.53 examples/s]\n",
      "Saving the dataset (1/1 shards): 100%|██████████| 621/621 [00:00<00:00, 11285.66 examples/s]\n"
     ]
    }
   ],
   "source": [
    "for function_id in time_series_data.keys():\n",
    "    time_series_data[function_id] = reindex_data(time_series_data[function_id])\n",
    "\n",
    "dataset_fragment = datasets.Dataset.from_generator(\n",
    "    multivar_gen_func, features=features\n",
    ")\n",
    "dataset_fragment.save_to_disk(\"hwfunc_dataset_multi\")\n"
   ]
  }
 ],
 "metadata": {
  "kernelspec": {
   "display_name": "Python 3",
   "language": "python",
   "name": "python3"
  },
  "language_info": {
   "codemirror_mode": {
    "name": "ipython",
    "version": 3
   },
   "file_extension": ".py",
   "mimetype": "text/x-python",
   "name": "python",
   "nbconvert_exporter": "python",
   "pygments_lexer": "ipython3",
   "version": "3.10.12"
  }
 },
 "nbformat": 4,
 "nbformat_minor": 2
}
